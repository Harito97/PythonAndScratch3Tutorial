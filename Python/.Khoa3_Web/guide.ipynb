{
 "cells": [
  {
   "cell_type": "markdown",
   "metadata": {},
   "source": [
    "# Install packages"
   ]
  },
  {
   "cell_type": "code",
   "execution_count": 1,
   "metadata": {},
   "outputs": [
    {
     "name": "stdout",
     "output_type": "stream",
     "text": [
      "Collecting django\n",
      "  Downloading Django-5.0.6-py3-none-any.whl.metadata (4.1 kB)\n",
      "Collecting asgiref<4,>=3.7.0 (from django)\n",
      "  Downloading asgiref-3.8.1-py3-none-any.whl.metadata (9.3 kB)\n",
      "Collecting sqlparse>=0.3.1 (from django)\n",
      "  Downloading sqlparse-0.5.0-py3-none-any.whl.metadata (3.9 kB)\n",
      "Requirement already satisfied: tzdata in c:\\users\\lenovo\\appdata\\local\\programs\\python\\python312\\lib\\site-packages (from django) (2024.1)\n",
      "Downloading Django-5.0.6-py3-none-any.whl (8.2 MB)\n",
      "   ---------------------------------------- 0.0/8.2 MB ? eta -:--:--\n",
      "   ---------------------------------------- 0.0/8.2 MB 991.0 kB/s eta 0:00:09\n",
      "   - -------------------------------------- 0.3/8.2 MB 3.5 MB/s eta 0:00:03\n",
      "   ---- ----------------------------------- 1.0/8.2 MB 7.8 MB/s eta 0:00:01\n",
      "   ----------- ---------------------------- 2.4/8.2 MB 15.3 MB/s eta 0:00:01\n",
      "   ------------------- -------------------- 4.1/8.2 MB 19.9 MB/s eta 0:00:01\n",
      "   ---------------------------- ----------- 5.9/8.2 MB 25.1 MB/s eta 0:00:01\n",
      "   ------------------------------------- -- 7.6/8.2 MB 27.1 MB/s eta 0:00:01\n",
      "   ---------------------------------------  8.2/8.2 MB 27.5 MB/s eta 0:00:01\n",
      "   ---------------------------------------  8.2/8.2 MB 27.5 MB/s eta 0:00:01\n",
      "   ---------------------------------------- 8.2/8.2 MB 21.8 MB/s eta 0:00:00\n",
      "Downloading asgiref-3.8.1-py3-none-any.whl (23 kB)\n",
      "Downloading sqlparse-0.5.0-py3-none-any.whl (43 kB)\n",
      "   ---------------------------------------- 0.0/44.0 kB ? eta -:--:--\n",
      "   ---------------------------------------- 44.0/44.0 kB ? eta 0:00:00\n",
      "Installing collected packages: sqlparse, asgiref, django\n",
      "Successfully installed asgiref-3.8.1 django-5.0.6 sqlparse-0.5.0\n",
      "Note: you may need to restart the kernel to use updated packages.\n"
     ]
    }
   ],
   "source": [
    "%pip install django"
   ]
  },
  {
   "cell_type": "markdown",
   "metadata": {},
   "source": [
    "# Run web service"
   ]
  },
  {
   "cell_type": "markdown",
   "metadata": {},
   "source": [
    "Đầu tiên xác định vị trí làm việc hiện tại trong cây thư mục tệp tin của hệ thống"
   ]
  },
  {
   "cell_type": "code",
   "execution_count": 1,
   "metadata": {},
   "outputs": [
    {
     "name": "stdout",
     "output_type": "stream",
     "text": [
      "d:\\HaritoWork\\PythonAndScratch3Tutorial\\Python\\Khoa3_Web\n"
     ]
    }
   ],
   "source": [
    "!cd ,"
   ]
  },
  {
   "cell_type": "markdown",
   "metadata": {},
   "source": [
    "Di chuyển đến đúng ví trí chứa file manage.py"
   ]
  },
  {
   "cell_type": "code",
   "execution_count": 2,
   "metadata": {},
   "outputs": [
    {
     "name": "stdout",
     "output_type": "stream",
     "text": [
      "d:\\HaritoWork\\PythonAndScratch3Tutorial\\Python\\Khoa3_Web\\Khoa3_Web\n"
     ]
    },
    {
     "name": "stderr",
     "output_type": "stream",
     "text": [
      "c:\\Users\\LENOVO\\AppData\\Local\\Programs\\Python\\Python312\\Lib\\site-packages\\IPython\\core\\magics\\osm.py:417: UserWarning: This is now an optional IPython functionality, setting dhist requires you to install the `pickleshare` library.\n",
      "  self.shell.db['dhist'] = compress_dhist(dhist)[-100:]\n"
     ]
    }
   ],
   "source": [
    "%cd Khoa3_Web/ "
   ]
  },
  {
   "cell_type": "markdown",
   "metadata": {},
   "source": [
    "Kiểm tra ví trí hiện tại có đúng vị trí mong muốn không"
   ]
  },
  {
   "cell_type": "code",
   "execution_count": 3,
   "metadata": {},
   "outputs": [
    {
     "name": "stdout",
     "output_type": "stream",
     "text": [
      "d:\\HaritoWork\\PythonAndScratch3Tutorial\\Python\\Khoa3_Web\\Khoa3_Web\n"
     ]
    }
   ],
   "source": [
    "!cd ,"
   ]
  },
  {
   "cell_type": "markdown",
   "metadata": {},
   "source": [
    "Liệt kê các tệp tin / thư mục có trong vị trí mong muốn này"
   ]
  },
  {
   "cell_type": "code",
   "execution_count": 4,
   "metadata": {},
   "outputs": [
    {
     "name": "stdout",
     "output_type": "stream",
     "text": [
      " Volume in drive D is DataVolume\n",
      " Volume Serial Number is EA9D-5C09\n",
      "\n",
      " Directory of d:\\HaritoWork\\PythonAndScratch3Tutorial\\Python\\Khoa3_Web\\Khoa3_Web\n",
      "\n",
      "06/14/2024  04:08 PM    <DIR>          .\n",
      "06/14/2024  04:08 PM    <DIR>          ..\n",
      "06/14/2024  04:08 PM    <DIR>          Khoa3_Web\n",
      "06/14/2024  04:08 PM               687 manage.py\n",
      "               1 File(s)            687 bytes\n",
      "               3 Dir(s)  503,155,752,960 bytes free\n"
     ]
    }
   ],
   "source": [
    "!dir"
   ]
  },
  {
   "cell_type": "markdown",
   "metadata": {},
   "source": [
    "Khởi chạy dịch vụ"
   ]
  },
  {
   "cell_type": "code",
   "execution_count": 6,
   "metadata": {},
   "outputs": [
    {
     "name": "stdout",
     "output_type": "stream",
     "text": [
      "^C\n"
     ]
    }
   ],
   "source": [
    "!python manage.py runserver\n"
   ]
  },
  {
   "cell_type": "code",
   "execution_count": 14,
   "metadata": {},
   "outputs": [
    {
     "name": "stdout",
     "output_type": "stream",
     "text": [
      "^C\n"
     ]
    }
   ],
   "source": [
    "!python d:/HaritoWork/PythonAndScratch3Tutorial/Python/Khoa3_Web/Khoa3_Web/manage.py runserver"
   ]
  },
  {
   "cell_type": "markdown",
   "metadata": {},
   "source": [
    "Giờ trong lúc manage.py đang runserver thì vào trình duyệt truy cập http://127.0.0.1:8000/ hay chính là localhost:8000/"
   ]
  },
  {
   "cell_type": "markdown",
   "metadata": {},
   "source": [
    "# Create a app in Django (in Windows shell)"
   ]
  },
  {
   "cell_type": "code",
   "execution_count": 7,
   "metadata": {},
   "outputs": [
    {
     "name": "stdout",
     "output_type": "stream",
     "text": [
      " Volume in drive D is DataVolume\n",
      " Volume Serial Number is EA9D-5C09\n",
      "\n",
      " Directory of d:\\HaritoWork\\PythonAndScratch3Tutorial\\Python\\Khoa3_Web\\Khoa3_Web\n",
      "\n",
      "06/14/2024  04:15 PM    <DIR>          .\n",
      "06/14/2024  04:08 PM    <DIR>          ..\n",
      "06/14/2024  04:15 PM                 0 db.sqlite3\n",
      "06/14/2024  04:15 PM    <DIR>          Khoa3_Web\n",
      "06/14/2024  04:08 PM               687 manage.py\n",
      "               2 File(s)            687 bytes\n",
      "               3 Dir(s)  503,155,744,768 bytes free\n"
     ]
    }
   ],
   "source": [
    "!dir"
   ]
  },
  {
   "cell_type": "code",
   "execution_count": 8,
   "metadata": {},
   "outputs": [],
   "source": [
    "!python manage.py startapp trang_chu"
   ]
  },
  {
   "cell_type": "code",
   "execution_count": 2,
   "metadata": {},
   "outputs": [
    {
     "name": "stdout",
     "output_type": "stream",
     "text": [
      "d:\\HaritoWork\\PythonAndScratch3Tutorial\\Python\\Khoa3_Web\\Khoa3_Web\\trang_chu\n"
     ]
    },
    {
     "name": "stderr",
     "output_type": "stream",
     "text": [
      "c:\\Users\\LENOVO\\AppData\\Local\\Programs\\Python\\Python312\\Lib\\site-packages\\IPython\\core\\magics\\osm.py:417: UserWarning: This is now an optional IPython functionality, setting dhist requires you to install the `pickleshare` library.\n",
      "  self.shell.db['dhist'] = compress_dhist(dhist)[-100:]\n"
     ]
    }
   ],
   "source": [
    "%cd Khoa3_Web/trang_chu/ "
   ]
  },
  {
   "cell_type": "code",
   "execution_count": 3,
   "metadata": {},
   "outputs": [
    {
     "name": "stdout",
     "output_type": "stream",
     "text": [
      " Volume in drive D is DataVolume\n",
      " Volume Serial Number is EA9D-5C09\n",
      "\n",
      " Directory of d:\\HaritoWork\\PythonAndScratch3Tutorial\\Python\\Khoa3_Web\\Khoa3_Web\\trang_chu\n",
      "\n",
      "06/14/2024  04:20 PM    <DIR>          .\n",
      "06/14/2024  04:20 PM    <DIR>          ..\n",
      "06/14/2024  04:20 PM                66 admin.py\n",
      "06/14/2024  04:20 PM               155 apps.py\n",
      "06/14/2024  04:20 PM    <DIR>          migrations\n",
      "06/14/2024  04:20 PM                60 models.py\n",
      "06/14/2024  04:20 PM                63 tests.py\n",
      "06/14/2024  04:20 PM                66 views.py\n",
      "06/14/2024  04:20 PM                 0 __init__.py\n",
      "               6 File(s)            410 bytes\n",
      "               3 Dir(s)  503,155,736,576 bytes free\n"
     ]
    }
   ],
   "source": [
    "!dir"
   ]
  },
  {
   "cell_type": "code",
   "execution_count": 13,
   "metadata": {},
   "outputs": [],
   "source": [
    "!notepad urlsConf.py"
   ]
  },
  {
   "cell_type": "markdown",
   "metadata": {},
   "source": [
    "# Create templates"
   ]
  },
  {
   "cell_type": "code",
   "execution_count": 16,
   "metadata": {},
   "outputs": [],
   "source": [
    "!mkdir d:\\HaritoWork\\PythonAndScratch3Tutorial\\Python\\Khoa3_Web\\Khoa3_Web\\trang_chu\\templates"
   ]
  },
  {
   "cell_type": "code",
   "execution_count": 2,
   "metadata": {},
   "outputs": [
    {
     "name": "stdout",
     "output_type": "stream",
     "text": [
      "GOLDPRICE.ORG - The No. 1 gold price site for fast loading live gold price charts in ounces, grams and kilos in every national currency in the world.Live GoldSpot GoldGold Price USAGold Price TodayGold Price per Ounce\n"
     ]
    }
   ],
   "source": [
    "# importing libraries\n",
    "from bs4 import BeautifulSoup as BS\n",
    "import requests\n",
    "\n",
    "\n",
    "# method to get the price of gold\n",
    "def get_price(url):\n",
    "    # getting the request from url\n",
    "    data = requests.get(url)\n",
    "\n",
    "    # converting the text\n",
    "    soup = BS(data.text, \"html.parser\")\n",
    "\n",
    "    # finding meta info for the current price\n",
    "    ans = soup.find(\"div\", class_=\"BNeawe s3v9rd AP7Wnd\").text\n",
    "\n",
    "    # returning the price\n",
    "    return ans\n",
    "\n",
    "\n",
    "# url of the gold price\n",
    "url = \"https://www.google.com/search?q=gold+price\"\n",
    "\n",
    "# calling the get_price method\n",
    "ans = get_price(url)\n",
    "\n",
    "# printing the ans\n",
    "print(ans)"
   ]
  }
 ],
 "metadata": {
  "kernelspec": {
   "display_name": "Python 3",
   "language": "python",
   "name": "python3"
  },
  "language_info": {
   "codemirror_mode": {
    "name": "ipython",
    "version": 3
   },
   "file_extension": ".py",
   "mimetype": "text/x-python",
   "name": "python",
   "nbconvert_exporter": "python",
   "pygments_lexer": "ipython3",
   "version": "3.11.9"
  }
 },
 "nbformat": 4,
 "nbformat_minor": 2
}
